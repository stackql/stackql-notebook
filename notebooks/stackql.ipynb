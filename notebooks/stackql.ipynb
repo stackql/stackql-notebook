{
 "cells": [
  {
   "attachments": {},
   "cell_type": "markdown",
   "metadata": {},
   "source": [
    "<a href=\"https://stackql.io/\" target=\"_blank\">\n",
    "<img src=\"assets/stackql-logo-bold.png\" alt=\"StackQL\" width=\"25%\" height=\"25%\">\n",
    "</a>\n",
    "<br />\n",
    "<blockquote>\n",
    "<p>walkthrough is included in this notebook, modify this template or create your own notebook to get started with StackQL.</p>\n",
    "</blockquote>"
   ]
  },
  {
   "cell_type": "code",
   "execution_count": null,
   "metadata": {},
   "outputs": [],
   "source": [
    "%load_ext ext.stackql"
   ]
  },
  {
   "attachments": {},
   "cell_type": "markdown",
   "metadata": {},
   "source": [
    "add variables here, for example:"
   ]
  },
  {
   "cell_type": "code",
   "execution_count": null,
   "metadata": {},
   "outputs": [],
   "source": [
    "region = 'ap-southeast-2'"
   ]
  },
  {
   "attachments": {},
   "cell_type": "markdown",
   "metadata": {},
   "source": [
    "run an inline StackQL query using `%stackql`, for example:"
   ]
  },
  {
   "cell_type": "code",
   "execution_count": null,
   "metadata": {},
   "outputs": [],
   "source": [
    "%stackql DESCRIBE aws.ec2.instances"
   ]
  },
  {
   "attachments": {},
   "cell_type": "markdown",
   "metadata": {},
   "source": [
    "run a multiline StackQL query using `%%stackql` using notebook variables, for example:"
   ]
  },
  {
   "cell_type": "code",
   "execution_count": null,
   "metadata": {},
   "outputs": [],
   "source": [
    "%%stackql\n",
    "SELECT instanceState, COUNT(*) as num_instances \n",
    "FROM aws.ec2.instances \n",
    "WHERE region = '$region' GROUP BY instanceState"
   ]
  },
  {
   "attachments": {},
   "cell_type": "markdown",
   "metadata": {},
   "source": [
    "if you need to use a `$` in your query, use `$$`, for example:"
   ]
  },
  {
   "cell_type": "code",
   "execution_count": null,
   "metadata": {},
   "outputs": [],
   "source": [
    "%%stackql\n",
    "SELECT \n",
    "JSON_EXTRACT(Properties, '$$.BucketName') as BucketName,\n",
    "JSON_EXTRACT(Properties, '$$.Tags') as Tags\n",
    "FROM aws.cloud_control.resources \n",
    "WHERE region = '$region' \n",
    "AND data__TypeName = 'AWS::S3::Bucket' \n",
    "AND data__Identifier = 'stackql-trial-bucket-01'"
   ]
  }
 ],
 "metadata": {
  "kernelspec": {
   "display_name": "Python 3",
   "language": "python",
   "name": "python3"
  },
  "language_info": {
   "name": "python",
   "version": "3.10.0"
  },
  "orig_nbformat": 4,
  "vscode": {
   "interpreter": {
    "hash": "369f2c481f4da34e4445cda3fffd2e751bd1c4d706f27375911949ba6bb62e1c"
   }
  }
 },
 "nbformat": 4,
 "nbformat_minor": 2
}
